{
 "cells": [
  {
   "cell_type": "code",
   "execution_count": 1,
   "metadata": {},
   "outputs": [],
   "source": [
    "import time\n",
    "from watchdog.observers import Observer\n",
    "from watchdog.events import FileSystemEventHandler"
   ]
  },
  {
   "cell_type": "code",
   "execution_count": 2,
   "metadata": {},
   "outputs": [],
   "source": [
    "import os\n",
    "import glob\n",
    "import subprocess\n",
    "import sys"
   ]
  },
  {
   "cell_type": "code",
   "execution_count": 3,
   "metadata": {},
   "outputs": [],
   "source": [
    "class Watcher:\n",
    "\n",
    "    def __init__(self, directory=\".\", handler=FileSystemEventHandler()):\n",
    "        self.observer = Observer()\n",
    "        self.handler = handler\n",
    "        self.directory = directory\n",
    "\n",
    "    def run(self):\n",
    "        self.observer.schedule(\n",
    "            self.handler, self.directory, recursive=True)\n",
    "        self.observer.start()\n",
    "        print(\"\\nWatcher Running in {}/\\n\".format(self.directory))\n",
    "        try:\n",
    "            while True:\n",
    "                time.sleep(1)\n",
    "        except:\n",
    "            self.observer.stop()\n",
    "        self.observer.join()\n",
    "        print(\"\\nWatcher Terminated\\n\")\n",
    "\n",
    "\n",
    "class MyHandler(FileSystemEventHandler):\n",
    "\n",
    "#     def on_any_event(self, event):\n",
    "#         print(event) # Your code here\n",
    "#         if event.event_type == \"moved\":\n",
    "#             print(\"Oh no! It's moved!\")\n",
    "\n",
    "    def __init__(self):\n",
    "        self.root = '/data/atspm_raw_data/Orlando_converted'\n",
    "        self.decoder_path = '/data/atspm_raw_data/manage_scripts/PurdueDecoder.exe'\n",
    "            \n",
    "    def on_moved(self, event):\n",
    "#         print(event)\n",
    "        try:\n",
    "            path_dest = event.dest_path\n",
    "            all_split = path_dest.split('/')\n",
    "            city, year, month, day, isc, filename  = all_split[3], all_split[4], all_split[5], all_split[6], all_split[7],all_split[8] \n",
    "            self.check_destination_directory(year, month, day, isc)\n",
    "            process = subprocess.Popen([\"wine\", f\"{self.decoder_path }\", f\"{path_dest}\", f\"{path_dest}.txt\", \"&&\",  \"mv\",f\"{path_dest}.txt\",f\"{self.root}/{year}/{month}/{day}/{isc}\"  ],stdout=subprocess.PIPE,\n",
    "    stderr=subprocess.PIPE,\n",
    "    close_fds=True)\n",
    "#             if process.stdout:\n",
    "#                 while True:\n",
    "#                     out = process.stdout.readline()\n",
    "#                     if out == '' and process.poll() is not None:\n",
    "#                         break\n",
    "#                     if out != '':\n",
    "#                         print( 'stdout: %s' % out)\n",
    "#                         sys.stdout.flush()\n",
    "\n",
    "            if process.stderr:\n",
    "                while True:\n",
    "                    err = process.stderr.readline()\n",
    "                    if err == '' and process.poll() is not None:\n",
    "                        break\n",
    "                    if err != '':\n",
    "                        print( 'stderr: %s' % err)\n",
    "                        sys.stderr.flush()\n",
    "\n",
    "        except Exception as e:\n",
    "            print(f\"failed for event {event} due to {e}\")\n",
    "        \n",
    "#         subprocess.Popen([\"cp\",f\"{path_dest}\",f\"{self.root}/{year}/{month}/{day}/{isc}\"])\n",
    "        \n",
    "        \n",
    "        \n",
    "    def check_destination_directory(self, year, month, day, isc):\n",
    "        root = self.root\n",
    "        \n",
    "        \n",
    "        if not os.path.exists(f\"{root}/{year}\"):\n",
    "            os.makedirs(f\"{root}/{year}\")\n",
    "            \n",
    "        if not os.path.exists(f\"{root}/{year}/{month}\"):\n",
    "            os.makedirs(f\"{root}/{year}/{month}\")\n",
    "            \n",
    "        if not os.path.exists(f\"{root}/{year}/{month}/{day}\"):\n",
    "            os.makedirs(f\"{root}/{year}/{month}/{day}\")\n",
    "            \n",
    "        if not os.path.exists(f\"{root}/{year}/{month}/{day}/{isc}\"):\n",
    "            os.makedirs(f\"{root}/{year}/{month}/{day}/{isc}\")\n"
   ]
  },
  {
   "cell_type": "code",
   "execution_count": 4,
   "metadata": {},
   "outputs": [],
   "source": [
    "# wine ./PurdueDecoder.exe $new $new.txt && mv \"$new.txt\" \"Orlando_converted/$year/$mon/$date/$intersection/\" &"
   ]
  },
  {
   "cell_type": "code",
   "execution_count": 5,
   "metadata": {},
   "outputs": [],
   "source": [
    "watcher = Watcher('/data/atspm_raw_data/Orlando', handler = MyHandler())"
   ]
  },
  {
   "cell_type": "code",
   "execution_count": 1,
   "metadata": {},
   "outputs": [],
   "source": [
    "#watcher.run()"
   ]
  },
  {
   "cell_type": "code",
   "execution_count": 7,
   "metadata": {},
   "outputs": [],
   "source": [
    "ggh = '/data/atspm_raw_data/Orlando/2022/11/11/TRAF_1005_2022_11_11_0003.dat'"
   ]
  },
  {
   "cell_type": "code",
   "execution_count": 13,
   "metadata": {},
   "outputs": [
    {
     "data": {
      "text/plain": [
       "['',\n",
       " 'data',\n",
       " 'atspm_raw_data',\n",
       " 'Orlando',\n",
       " '2022',\n",
       " '11',\n",
       " '11',\n",
       " 'TRAF_1005_2022_11_11_0003.dat']"
      ]
     },
     "execution_count": 13,
     "metadata": {},
     "output_type": "execute_result"
    }
   ],
   "source": [
    "ggh.split('/')"
   ]
  },
  {
   "cell_type": "code",
   "execution_count": null,
   "metadata": {},
   "outputs": [],
   "source": []
  }
 ],
 "metadata": {
  "kernelspec": {
   "display_name": "Python 3",
   "language": "python",
   "name": "python3"
  },
  "language_info": {
   "codemirror_mode": {
    "name": "ipython",
    "version": 3
   },
   "file_extension": ".py",
   "mimetype": "text/x-python",
   "name": "python",
   "nbconvert_exporter": "python",
   "pygments_lexer": "ipython3",
   "version": "3.9.4"
  }
 },
 "nbformat": 4,
 "nbformat_minor": 4
}
