{
 "cells": [
  {
   "cell_type": "code",
   "execution_count": 1,
   "id": "3e0134fc-1e38-48f0-9164-39f22b9ad6c7",
   "metadata": {},
   "outputs": [],
   "source": [
    "from ksql import KSQLAPI\n",
    "import socket"
   ]
  },
  {
   "cell_type": "code",
   "execution_count": 2,
   "id": "ccf1b965-b8cc-4005-97c3-9807e5108835",
   "metadata": {},
   "outputs": [],
   "source": [
    "import json\n",
    "import re\n",
    "import pandas as pd\n",
    "import time"
   ]
  },
  {
   "cell_type": "code",
   "execution_count": 3,
   "id": "51fd4bfd-5ba6-4dd0-a16f-bd58a54e5958",
   "metadata": {},
   "outputs": [],
   "source": [
    "client = KSQLAPI('http://localhost:8088')\n",
    "streamProperties = {\n",
    "    \"ksql.streams.auto.offset.reset\": \"earliest\", \n",
    "    \"ksql.query.pull.table.scan.enabled\": \"true\"\n",
    "}"
   ]
  },
  {
   "cell_type": "code",
   "execution_count": 4,
   "id": "5d81b6d0-bb39-4b71-a903-3f47ff238c27",
   "metadata": {},
   "outputs": [],
   "source": [
    "import datetime\n"
   ]
  },
  {
   "cell_type": "code",
   "execution_count": 5,
   "id": "3bd02980-a635-47e7-a43a-314bb8e326eb",
   "metadata": {},
   "outputs": [],
   "source": [
    "def parse_columns(columns_str):\n",
    "    regex = r\"(?<!\\<)`(?P<name>[A-Z_]+)` (?P<type>[A-z]+)[\\<, \\\"](?!\\>)\"\n",
    "    result = []\n",
    "\n",
    "    matches = re.finditer(regex, columns_str)\n",
    "    for matchNum, match in enumerate(matches, start=1):\n",
    "        result.append({\"name\": match.group(\"name\"), \"type\": match.group(\"type\")})\n",
    "\n",
    "    return result\n",
    "\n",
    "\n",
    "def process_row(row, column_names):\n",
    "    row = row.replace(\",\\n\", \"\").replace(\"]\\n\", \"\").rstrip(\"]\")\n",
    "    row_obj = json.loads(row)\n",
    "    if \"finalMessage\" in row_obj:\n",
    "        return None\n",
    "    column_values = row_obj[\"row\"][\"columns\"]\n",
    "    index = 0\n",
    "    result = {}\n",
    "    for column in column_values:\n",
    "        result[column_names[index][\"name\"]] = column\n",
    "        index += 1\n",
    "\n",
    "    return result\n",
    "\n",
    "def process_query_result(results, return_objects=None):\n",
    "    if return_objects is None:\n",
    "        yield from results\n",
    "\n",
    "    # parse rows into objects\n",
    "    try:\n",
    "        header = next(results)\n",
    "    except StopIteration:\n",
    "        return\n",
    "    columns = parse_columns(header)\n",
    "\n",
    "    for result in results:\n",
    "        row_obj = process_row(result, columns)\n",
    "        if row_obj is None:\n",
    "            return\n",
    "        yield row_obj"
   ]
  },
  {
   "cell_type": "code",
   "execution_count": 6,
   "id": "f95bab16-8fbd-4366-aec9-e43f695b37ac",
   "metadata": {},
   "outputs": [],
   "source": [
    "def return_query_df(ksql_string):\n",
    "    query = client.query(ksql_string, stream_properties=streamProperties)\n",
    "    tspm = list(process_query_result(query, return_objects=True))\n",
    "    return pd.DataFrame(tspm)\n",
    "    "
   ]
  },
  {
   "cell_type": "code",
   "execution_count": 7,
   "id": "e9cb00bb-828b-4023-bc9d-665b7dbe7837",
   "metadata": {},
   "outputs": [],
   "source": [
    "\n",
    "\n",
    "def ts_unix_to_ts(time_unix):\n",
    "    dt = datetime.datetime.fromtimestamp(time_unix/1000)\n",
    "    return dt.strftime('%Y-%m-%dT%H:%M:%S.%f')    \n",
    "    \n",
    "def ts_str_to_unix(time_str):\n",
    "    dt = datetime.datetime.strptime(time_str, '%Y-%m-%d %H:%M:%S.%f')\n",
    "    return int(time.mktime(dt.timetuple()) * 1000)"
   ]
  },
  {
   "cell_type": "code",
   "execution_count": 27,
   "id": "c0bf7b8d-5d35-4ec2-9f0f-d77644cd97de",
   "metadata": {},
   "outputs": [],
   "source": [
    "# FUNCTION TO RETURN COUNTS FOR A SIGNAL, PHASE BETWEEN START AND END TIME. 5 sec aggregation\n",
    "def return_ph_agg_counts(isc_name, start_time, end_time, type_str, phase):\n",
    "    '''\n",
    "    isc_name: isc name string\n",
    "    start_time: unix time in ms (INT)\n",
    "    end_time: unix time in ms(INT)\n",
    "    type_str: 'stp' or 'adv' (str)\n",
    "    phase:[1,8] (INT)\n",
    "    '''\n",
    "    TABLE_NAME = 'ATSPM_STREAM_UNIX_COUNTS_PHASE_5SEC'  #THIS IS A TABLE\n",
    "    sig_phase = f\"{isc_name}_{type_str}_{phase}\"\n",
    "    ksql_string = f'SELECT * FROM {TABLE_NAME} where SIG_PHASE_TYPE = ' +  \"'\" + sig_phase + \"'\"   + f' AND WINDOWSTART>={start_time} AND WINDOWSTART <= {end_time}'\n",
    "    print(ksql_string) \n",
    "    temp_df = return_query_df(ksql_string)\n",
    "    temp_df.drop(columns = ['SIG_PHASE_TYPE', 'WINDOWEND'], inplace = True)\n",
    "    new_row = pd.Series(data={'WINDOWSTART':start_time,'COUNT':0}, name=0)\n",
    "    temp_df = temp_df.append(new_row, ignore_index=False)\n",
    "    new_row = pd.Series(data={'WINDOWSTART':end_time,'COUNT':0}, name=0)\n",
    "    temp_df = temp_df.append(new_row, ignore_index=False)\n",
    "    temp_df['timestamp']  = pd.to_datetime(temp_df['WINDOWSTART'], unit = 'ms').dt.tz_localize('UTC').dt.tz_convert('US/Eastern')\n",
    "    temp_df.set_index('timestamp', inplace = True)\n",
    "    temp_df.drop(columns = ['WINDOWSTART'], inplace = True)\n",
    "    temp_df.sort_index(inplace = True)\n",
    "\n",
    "    final_df = temp_df.resample('5s').sum()\n",
    "    return final_df\n",
    "\n",
    "# FUNCTION TO RETURN MOST RECENT TIMESTAMP FOR A INTERSECTION\n",
    "def return_recent_data_ts(signalid):\n",
    "    '''\n",
    "    signalid: isc name string\n",
    "    '''\n",
    "    TABLE_NAME = 'ATSPM_TABLE_STATUS' #THIS IS A TABLE\n",
    "    ksql_string = f'SELECT ts from {TABLE_NAME} where SIGNALID=' + \"'\" + f'{signalid}' + \"'\"\n",
    "    print(ksql_string)\n",
    "    df = return_query_df(ksql_string)\n",
    "    return df\n",
    "\n",
    "# FUNCTION TO RETURN COUNTS FOR A DETECTOR BETWEEN START AND END TIME. 5 sec aggregation\n",
    "def return_det_counts_data(detector_id, time_start, time_end):\n",
    "    '''\n",
    "    detector_id: detector_id string (signalID + channel value)\n",
    "    start_time: unix time in ms (INT)\n",
    "    end_time: unix time in ms(INT)\n",
    "    '''\n",
    "    TABLE_NAME = 'ATSPM_STREAM_UNIX_COUNTS_AGG_5SEC_NEW' #Detector ID to counts  #THIS IS A TABLE\n",
    "    ksql_string = f'SELECT * FROM {TABLE_NAME} where DETECTORID = ' +  \"'\" + det_id + \"'\"   + f' AND WINDOWSTART>={time_start} AND WINDOWSTART <= {time_end}'\n",
    "    print(ksql_string)\n",
    "    temp_df = return_query_df(ksql_string)\n",
    "    \n",
    "    temp_df.drop(columns = ['DETECTORID', 'WINDOWEND'], inplace = True)\n",
    "    new_row = pd.Series(data={'WINDOWSTART':time_start,'COUNT':0}, name=0)\n",
    "    temp_df = temp_df.append(new_row, ignore_index=False)\n",
    "    new_row = pd.Series(data={'WINDOWSTART':time_end,'COUNT':0}, name=0)\n",
    "    temp_df = temp_df.append(new_row, ignore_index=False)\n",
    "    temp_df['timestamp']  = pd.to_datetime(temp_df['WINDOWSTART'], unit = 'ms').dt.tz_localize('UTC').dt.tz_convert('US/Eastern')\n",
    "    temp_df.set_index('timestamp', inplace = True)\n",
    "    temp_df.drop(columns = ['WINDOWSTART'], inplace = True)\n",
    "    temp_df.sort_index(inplace = True)\n",
    "\n",
    "    final_df = temp_df.resample('5s').sum()\n",
    "    \n",
    "    \n",
    "    return final_df"
   ]
  },
  {
   "cell_type": "code",
   "execution_count": 54,
   "id": "215ab655-385e-41d4-a4a3-7a767d92cfd8",
   "metadata": {},
   "outputs": [],
   "source": [
    "# FUNCTION TO RETURN SIGNAL TIMING FOR A ISC BETWEEN START AND END TIME. NO AGGREGATION\n",
    "def return_signal_timing_data(signalid, time_start, time_end):\n",
    "    '''\n",
    "    signalid: isc name string\n",
    "    start_time: unix time in ms (INT)\n",
    "    end_time: unix time in ms(INT)\n",
    "    '''\n",
    "    TABLE_NAME = 'ATSPM_STREAM_SIG_GREEN_RED' \n",
    "    ksql_string = f'SELECT * FROM {TABLE_NAME} where SIGNALID = ' +  \"'\" + signalid + \"'\"   + f' AND ROWTIME>={time_start} AND ROWTIME <= {time_end}'\n",
    "    print(ksql_string)\n",
    "    temp_df = return_query_df(ksql_string)\n",
    "#     temp_df.drop(columns = ['DETECTORID'])\n",
    "    return temp_df.drop_duplicates()\n",
    "    "
   ]
  },
  {
   "cell_type": "code",
   "execution_count": null,
   "id": "5cbb26f2-7f37-4321-8dd8-77e6b422d1d9",
   "metadata": {},
   "outputs": [],
   "source": []
  },
  {
   "cell_type": "code",
   "execution_count": 51,
   "id": "fbc8ee3e-3bb4-4d7a-84df-4e283bd7ac27",
   "metadata": {},
   "outputs": [
    {
     "name": "stdout",
     "output_type": "stream",
     "text": [
      "SELECT ts from ATSPM_TABLE_STATUS where SIGNALID='1430'\n",
      "window time start 2021-09-24T09:53:19.000000 end 2021-09-24T09:59:59.000000\n"
     ]
    }
   ],
   "source": [
    "# get most recent data timestamps for a particular signal\n",
    "window_size = 400 # seconds\n",
    "recent_ts =  return_recent_data_ts('1430')['TS'].values[0] # unix timestamp ms\n",
    "time_start = recent_ts - (1000*window_size)\n",
    "print(f\"window time start {ts_unix_to_ts(time_start)} end {ts_unix_to_ts(recent_ts)}\")"
   ]
  },
  {
   "cell_type": "code",
   "execution_count": null,
   "id": "c428baf8-b89d-44dd-b5f2-ed846c0e08bf",
   "metadata": {},
   "outputs": [],
   "source": []
  },
  {
   "cell_type": "code",
   "execution_count": 52,
   "id": "4cc3a1c1-392a-49ad-a4a8-f7502dcdd7fd",
   "metadata": {},
   "outputs": [
    {
     "name": "stdout",
     "output_type": "stream",
     "text": [
      "SELECT * FROM ATSPM_STREAM_SIG_GREEN_RED where SIGNALID = '1430' AND ROWTIME>=1632491599000 AND ROWTIME <= 1632491999000\n"
     ]
    }
   ],
   "source": [
    "# return sig data \n",
    "signalid = '1430'\n",
    "sig_df = return_signal_timing_data(signalid, time_start, recent_ts)"
   ]
  },
  {
   "cell_type": "code",
   "execution_count": 29,
   "id": "fc9da529-4018-475b-8e27-ff6979064192",
   "metadata": {},
   "outputs": [
    {
     "name": "stdout",
     "output_type": "stream",
     "text": [
      "SELECT * FROM ATSPM_STREAM_UNIX_COUNTS_AGG_5SEC_NEW where DETECTORID = '14301' AND WINDOWSTART>=1632491599000 AND WINDOWSTART <= 1632491999000\n"
     ]
    }
   ],
   "source": [
    "# return count data  detector\n",
    "det_id = str('14301')\n",
    "df_counts = return_det_counts_data(det_id, time_start, recent_ts)"
   ]
  },
  {
   "cell_type": "code",
   "execution_count": 56,
   "id": "10ada618-b22f-4569-a9d2-09544245a30a",
   "metadata": {},
   "outputs": [
    {
     "name": "stdout",
     "output_type": "stream",
     "text": [
      "SELECT * FROM ATSPM_STREAM_UNIX_COUNTS_PHASE_5SEC where SIG_PHASE_TYPE = '1430_stp_2' AND WINDOWSTART>=1632488400000 AND WINDOWSTART <= 1632488475000\n"
     ]
    }
   ],
   "source": [
    "# return count data  phase\n",
    "isc_name, start_time, end_time, type_str, phase = '1430', 1632488400000, 1632488475000 , 'stp', 2\n",
    "temp_df = return_ph_agg_counts(isc_name, start_time, end_time, type_str, phase)"
   ]
  },
  {
   "cell_type": "code",
   "execution_count": null,
   "id": "149f0c2a-7f86-428c-852c-fe96cd83b823",
   "metadata": {},
   "outputs": [],
   "source": [
    "df_counts_singa"
   ]
  },
  {
   "cell_type": "code",
   "execution_count": null,
   "id": "4f968e92-1af8-4942-8013-51511935c371",
   "metadata": {},
   "outputs": [],
   "source": [
    "def process_data(signal_id,city,date):\n",
    "    \n",
    "    df2 = return_orlando_data(date, signal_id)\n",
    "#     print(df2)\n",
    " \n",
    "    df2['t'] = df2.index\n",
    " \n",
    "    df3_ = \n",
    "\n",
    "    df3 = df2[df2['EventCode'].isin([81])] # counts \n",
    "    df6 = df2[df2['EventCode'].isin([1, 11])] # signal timing\n",
    " \n",
    "    current = set()\n",
    "    stime_list = []\n",
    "    etime_list = []\n",
    "    start_time = ''\n",
    "    end_time = ''\n",
    "    lis_ = []\n",
    " \n",
    "    ts = df6['t'][0]\n",
    " \n",
    "    start_time = ts\n",
    " \n",
    "    for row in df6.values:\n",
    "        if (ts == row[3]):\n",
    "            # print('a')\n",
    "            if (row[1] == 1):\n",
    "                # print('b')\n",
    "                current.add(row[2])\n",
    "            elif (row[1] == 11):\n",
    "                # print('c')\n",
    "                current.discard(row[2])\n",
    "        else:\n",
    "            temp = ','.join(map(str, current))\n",
    "            # current = set()\n",
    "            lis_.append(temp)\n",
    "            ts = row[3]\n",
    "            end_time = ts\n",
    "            stime_list.append(start_time)\n",
    "            etime_list.append(end_time)\n",
    "            start_time = ts\n",
    "            if (row[1] == 1):\n",
    "                current.add(row[2])\n",
    "            elif (row[1] == 11):\n",
    "                current.discard(row[2])\n",
    "    # n grams\n",
    "    # print(\"Starting n-grams\")\n",
    "    grams = ngrams(lis_, 6)\n",
    "    gramFreq = collections.Counter(grams)\n",
    " \n",
    "    time_plan = pd.DataFrame(columns=['green_phases', 'start_time', 'end_time', 'plan_number'],\n",
    "                             index=range(1, len(lis_) + 1))\n",
    "    time_plan['green_phases'] = lis_\n",
    "    time_plan['start_time'] = stime_list\n",
    "    time_plan['end_time'] = etime_list\n",
    "    \n",
    "    \n",
    "    \n",
    "    \n",
    "    \n",
    "    list_res = []\n",
    "    for channel in df3['EventParam'].unique():\n",
    "       \n",
    "        df4 = df3[df3['EventParam'] ==  channel]\n",
    "\n",
    "        start_time = str(df4.index[0])[:10] + ' ' +'00' + ':00:01'\n",
    "        end_time = str(df4.index[0])[:10] + ' ' + '23' + ':59:59'\n",
    "\n",
    "\n",
    "        new_row = pd.Series(data={'SignalID':1, 'EventCode':81, 'EventParam':channel, 't':pd.to_datetime(start_time) }, name=pd.to_datetime(start_time))\n",
    "        df4 = df4.append(new_row, ignore_index=False)\n",
    "\n",
    "\n",
    "        new_row = pd.Series(data={'SignalID':1, 'EventCode':81, 'EventParam':channel, 't':pd.to_datetime(end_time)  }, name=pd.to_datetime(end_time))\n",
    "        df4 = df4.append(new_row, ignore_index=False)\n",
    "        \n",
    "        \n",
    "        df4.sort_index(inplace = True)\n",
    "       \n",
    "\n",
    "\n",
    "\n",
    "\n",
    "\n",
    "\n",
    "        df4= df4.resample('5s').count()\n",
    "        df4['time'] =df4.index.values\n",
    "        df4 = df4[['EventParam','time']]\n",
    "        \n",
    "        df8 = pd.merge_asof(df4, time_plan, left_on='Timestamp', right_on='start_time')\n",
    "        df8 = df8[['time','EventParam','green_phases']]\n",
    "        df8.columns = ['time','count', 'green_phases']\n",
    "        df8['detector_channel'] = channel\n",
    "        list_res.append(df8)\n",
    "\n",
    "    counts_df  = pd.concat(list_res)\n",
    "    counts_df = counts_df.dropna()\n",
    "\n",
    "\n",
    "    counts_df= counts_df[['time','count','green_phases','detector_channel']]\n",
    "    \n",
    "    \n",
    "    \n",
    "    return time_plan, counts_df"
   ]
  }
 ],
 "metadata": {
  "kernelspec": {
   "display_name": "Python 3",
   "language": "python",
   "name": "python3"
  },
  "language_info": {
   "codemirror_mode": {
    "name": "ipython",
    "version": 3
   },
   "file_extension": ".py",
   "mimetype": "text/x-python",
   "name": "python",
   "nbconvert_exporter": "python",
   "pygments_lexer": "ipython3",
   "version": "3.9.4"
  }
 },
 "nbformat": 4,
 "nbformat_minor": 5
}
