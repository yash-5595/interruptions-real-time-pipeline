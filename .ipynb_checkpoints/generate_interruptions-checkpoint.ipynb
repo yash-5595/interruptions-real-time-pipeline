{
 "cells": [
  {
   "cell_type": "code",
   "execution_count": 1,
   "id": "1247b93c-d335-47aa-8593-2faabbbb9769",
   "metadata": {},
   "outputs": [],
   "source": [
    "import pandas as pd\n",
    "import numpy as np\n",
    "from storeEOI import IscEoiStore"
   ]
  },
  {
   "cell_type": "code",
   "execution_count": null,
   "id": "64d5a15e-dd8e-496e-afcf-0f379fc44d38",
   "metadata": {},
   "outputs": [],
   "source": [
    "from ksql import KSQLAPI\n",
    "import socket\n",
    "from confluent_kafka import Consumer, KafkaError, KafkaException"
   ]
  }
 ],
 "metadata": {
  "kernelspec": {
   "display_name": "Python 3",
   "language": "python",
   "name": "python3"
  },
  "language_info": {
   "codemirror_mode": {
    "name": "ipython",
    "version": 3
   },
   "file_extension": ".py",
   "mimetype": "text/x-python",
   "name": "python",
   "nbconvert_exporter": "python",
   "pygments_lexer": "ipython3",
   "version": "3.9.4"
  }
 },
 "nbformat": 4,
 "nbformat_minor": 5
}
