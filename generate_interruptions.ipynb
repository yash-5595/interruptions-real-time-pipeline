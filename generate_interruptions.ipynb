{
 "cells": [
  {
   "cell_type": "code",
   "execution_count": 1,
   "id": "1247b93c-d335-47aa-8593-2faabbbb9769",
   "metadata": {},
   "outputs": [],
   "source": [
    "import pandas as pd\n",
    "import numpy as np\n",
    "from storeEOI import IscEoiStore"
   ]
  },
  {
   "cell_type": "code",
   "execution_count": 2,
   "id": "64d5a15e-dd8e-496e-afcf-0f379fc44d38",
   "metadata": {},
   "outputs": [],
   "source": [
    "from ksql import KSQLAPI\n",
    "import socket\n",
    "from confluent_kafka import Consumer, KafkaError, KafkaException"
   ]
  },
  {
   "cell_type": "code",
   "execution_count": 3,
   "id": "45ea5b51-e0e4-4714-b3d3-d655b3c64656",
   "metadata": {},
   "outputs": [],
   "source": [
    "isc_eoi = IscEoiStore()"
   ]
  },
  {
   "cell_type": "code",
   "execution_count": 4,
   "id": "532c42af-d69f-422f-a8e5-a37454d64a42",
   "metadata": {
    "collapsed": true,
    "jupyter": {
     "outputs_hidden": true
    },
    "tags": []
   },
   "outputs": [
    {
     "name": "stderr",
     "output_type": "stream",
     "text": [
      "2023-01-02 21:58:17 INFO     Note: NumExpr detected 32 cores but \"NUMEXPR_MAX_THREADS\" not set, so enforcing safe limit of 8.\n",
      "2023-01-02 21:58:17 INFO     NumExpr defaulting to 8 threads.\n"
     ]
    },
    {
     "name": "stdout",
     "output_type": "stream",
     "text": [
      "   SIGNALID    WINDOWSTART      WINDOWEND  SUMFLAG  processed\n",
      "0      1010  1672712400000  1672713900000       25          1\n",
      "7      1015  1672712400000  1672713900000       25          1\n",
      "14     1873  1672712400000  1672713900000       25          1\n",
      "21     2565  1672712400000  1672713900000       25          1\n",
      "allrows\n",
      "[SIGNALID                1010\n",
      "WINDOWSTART    1672712400000\n",
      "WINDOWEND      1672713900000\n",
      "SUMFLAG                   25\n",
      "processed                  1\n",
      "Name: 0, dtype: object, SIGNALID                1015\n",
      "WINDOWSTART    1672712400000\n",
      "WINDOWEND      1672713900000\n",
      "SUMFLAG                   25\n",
      "processed                  1\n",
      "Name: 7, dtype: object, SIGNALID                1873\n",
      "WINDOWSTART    1672712400000\n",
      "WINDOWEND      1672713900000\n",
      "SUMFLAG                   25\n",
      "processed                  1\n",
      "Name: 14, dtype: object, SIGNALID                2565\n",
      "WINDOWSTART    1672712400000\n",
      "WINDOWEND      1672713900000\n",
      "SUMFLAG                   25\n",
      "processed                  1\n",
      "Name: 21, dtype: object]\n",
      "redu {'detector_id': '10103', 'start_time': '2023-01-02T21:20:00.000000', 'end_time': '2023-01-02T21:44:59.999000', 'curr_volume': 4, 'curr_ma': 5.25, 'baseline': 5.25, 'reduction': 0.23809523809523808}redu {'detector_id': '10152', 'start_time': '2023-01-02T21:20:00.000000', 'end_time': '2023-01-02T21:44:59.999000', 'curr_volume': 3, 'curr_ma': 8.0, 'baseline': 8.0, 'reduction': 0.625}\n",
      "\n",
      "redu {'detector_id': '25654', 'start_time': '2023-01-02T21:20:00.000000', 'end_time': '2023-01-02T21:44:59.999000', 'curr_volume': 12, 'curr_ma': 14.0, 'baseline': 15.2, 'reduction': 0.21052631578947364}\n",
      "redu {'detector_id': '10109', 'start_time': '2023-01-02T21:20:00.000000', 'end_time': '2023-01-02T21:44:59.999000', 'curr_volume': 4, 'curr_ma': 4.75, 'baseline': 8.625, 'reduction': 0.5362318840579711}\n",
      "redu {'detector_id': '101010', 'start_time': '2023-01-02T21:20:00.000000', 'end_time': '2023-01-02T21:44:59.999000', 'curr_volume': 4, 'curr_ma': 5.5, 'baseline': 5.5, 'reduction': 0.2727272727272727}\n"
     ]
    }
   ],
   "source": [
    "\n",
    "all_rows = isc_eoi.start_processing()\n",
    "# print(f\"all_isc_store\")     \n",
    "# print(isc_eoi.all_isc_store)"
   ]
  },
  {
   "cell_type": "code",
   "execution_count": null,
   "id": "793bb185-a536-4a4d-ae00-59e6bc885236",
   "metadata": {},
   "outputs": [],
   "source": []
  },
  {
   "cell_type": "code",
   "execution_count": 5,
   "id": "65096dbf-e81c-4dcb-a6be-254490eb0860",
   "metadata": {
    "collapsed": true,
    "jupyter": {
     "outputs_hidden": true
    },
    "tags": []
   },
   "outputs": [
    {
     "data": {
      "text/plain": [
       "{'1010': {10103: [{'detector_id': '10103',\n",
       "    'start_time': '2023-01-02T21:20:00.000000',\n",
       "    'end_time': '2023-01-02T21:44:59.999000',\n",
       "    'curr_volume': 4,\n",
       "    'curr_ma': 5.25,\n",
       "    'baseline': 5.25,\n",
       "    'reduction': 0.23809523809523808}],\n",
       "  10109: [{'detector_id': '10109',\n",
       "    'start_time': '2023-01-02T21:20:00.000000',\n",
       "    'end_time': '2023-01-02T21:44:59.999000',\n",
       "    'curr_volume': 4,\n",
       "    'curr_ma': 4.75,\n",
       "    'baseline': 8.625,\n",
       "    'reduction': 0.5362318840579711}],\n",
       "  101010: [{'detector_id': '101010',\n",
       "    'start_time': '2023-01-02T21:20:00.000000',\n",
       "    'end_time': '2023-01-02T21:44:59.999000',\n",
       "    'curr_volume': 4,\n",
       "    'curr_ma': 5.5,\n",
       "    'baseline': 5.5,\n",
       "    'reduction': 0.2727272727272727}]},\n",
       " '1015': {10152: [{'detector_id': '10152',\n",
       "    'start_time': '2023-01-02T21:20:00.000000',\n",
       "    'end_time': '2023-01-02T21:44:59.999000',\n",
       "    'curr_volume': 3,\n",
       "    'curr_ma': 8.0,\n",
       "    'baseline': 8.0,\n",
       "    'reduction': 0.625}],\n",
       "  10157: [],\n",
       "  10158: []},\n",
       " '1873': {},\n",
       " '2565': {25654: [{'detector_id': '25654',\n",
       "    'start_time': '2023-01-02T21:20:00.000000',\n",
       "    'end_time': '2023-01-02T21:44:59.999000',\n",
       "    'curr_volume': 12,\n",
       "    'curr_ma': 14.0,\n",
       "    'baseline': 15.2,\n",
       "    'reduction': 0.21052631578947364}],\n",
       "  25655: [],\n",
       "  256512: [],\n",
       "  256513: []}}"
      ]
     },
     "execution_count": 5,
     "metadata": {},
     "output_type": "execute_result"
    }
   ],
   "source": [
    "\n",
    "isc_eoi.all_isc_store"
   ]
  },
  {
   "cell_type": "code",
   "execution_count": null,
   "id": "221eaaef-4e47-4be6-9ffd-f573b4b59869",
   "metadata": {},
   "outputs": [],
   "source": []
  }
 ],
 "metadata": {
  "kernelspec": {
   "display_name": "Python 3",
   "language": "python",
   "name": "python3"
  },
  "language_info": {
   "codemirror_mode": {
    "name": "ipython",
    "version": 3
   },
   "file_extension": ".py",
   "mimetype": "text/x-python",
   "name": "python",
   "nbconvert_exporter": "python",
   "pygments_lexer": "ipython3",
   "version": "3.9.4"
  }
 },
 "nbformat": 4,
 "nbformat_minor": 5
}
